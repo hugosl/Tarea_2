{
 "cells": [
  {
   "cell_type": "code",
   "execution_count": 2,
   "metadata": {
    "collapsed": true
   },
   "outputs": [],
   "source": [
    "from pylab import *\n",
    "%matplotlib inline"
   ]
  },
  {
   "cell_type": "markdown",
   "metadata": {},
   "source": [
    "Use el método de particiones visto en clase, ya que así no hay que derivar "
   ]
  },
  {
   "cell_type": "code",
   "execution_count": 3,
   "metadata": {
    "collapsed": true
   },
   "outputs": [],
   "source": [
    "def raiz_bip(func,x_i,x_d):\n",
    "    err=1e-8\n",
    "    raiz = 0.5*(x_i+x_d)\n",
    "    y_i,y_d = func(x_i),func(x_d)\n",
    "    while abs(y_d)>=err:\n",
    "        y_m = func(raiz)\n",
    "        if y_m == 0.:\n",
    "            print \"chin, le atine :D\"\n",
    "            break\n",
    "        if y_m*y_i < 0:\n",
    "            x_d = raiz\n",
    "        else:\n",
    "            x_i = raiz\n",
    "        raiz = 0.5*(x_i+x_d)\n",
    "        y_i,y_d = func(x_i),func(x_d)\n",
    "    return raiz"
   ]
  },
  {
   "cell_type": "markdown",
   "metadata": {},
   "source": [
    "Este es el algoritmo que buscara las raíces de una función oscilatoria en determinado intervalo finito"
   ]
  },
  {
   "cell_type": "code",
   "execution_count": 4,
   "metadata": {
    "collapsed": false
   },
   "outputs": [],
   "source": [
    "def raiz_osc(funcion,x_in,x_fi): #se definen las variables, la funcion, y  el inicio y final del intervalo donde se buscaran las raiz\n",
    "    fmin = 1e-4 # este es un pequeño intevalo que se usara para encontrar la primer raiz\n",
    "    x_ini,x_fin = x_in,x_in + fmin # definimos x_fin como el punto inicial del intevalo mas fmin\n",
    "    n=0 # se definen dos contadores con valor cero\n",
    "    i=0\n",
    "    while (x_fin < x_fi):# este ciclo se mantiene mientras x_fin sea menor a el punto final del intevalo\n",
    "        y_i,y_d = funcion(x_ini),funcion(x_fin) # se evalua la funcion en el punto inicial del intevalo y en x_fin\n",
    "        p = y_i*y_d # se hace este producto para ver si hay un cambio de signo en el intervalo x_ini-x_fin\n",
    "        while (p>0): #  no hay cambio de signo, por lo tanto no hay raiz en el intevalo x_ini-x_fin\n",
    "            x_ini = x_fin # ahora x_ini toma el valor de x_fin\n",
    "            x_fin = x_fin + fmin # sumamos fmin a x_fin, ahora tenemos un nuevo intevalo que empieza en el final del intevalo anterior    \n",
    "            if ( x_fin > x_fi): # si el punto final de este nuevo intevalo es mayor al punto final del intevalo original \n",
    "                #donde se buscan las raices \n",
    "                i =1  # se agrega un contador a i\n",
    "                break # finaliza el ciclo while\n",
    "            y_i,y_d = funcion(x_ini),funcion(x_fin) # se evalua la funcion en el punto inicial del nuevo intevalo y en x_fin\n",
    "            p = y_i*y_d # se hace este producto para ver si hay un cambio de signo en el intervalo x_ini-x_fin\n",
    "        if i == 1 and n > 0: # si el contador i = 1 entonces el programa termino de mapear el intevalo original\n",
    "            break            # ademas si n > 0 encontro por lo menos una raiz, y finaliza el programa\n",
    "        if i == 1:  # si el contador i = 1 entonces el programa termino de mapear el intevalo original pero al ser\n",
    "            print  \"no hay raiz\" # no hay raices\n",
    "            break  # n = 0 significa que no encontro ninguna raiz en el intevalo original y termina el programa\n",
    "        else :    \n",
    "            raiz = raiz_bip(funcion,x_ini,x_fin) # si el programa llego a este punto significa que encontro un cambio de signo\n",
    "            n +=1                                # en la funcion, en el intevalo x_ini-x_fin, buca la raiz con la funcion biparticion \n",
    "                                                 # y agraga un contador a n\n",
    "            x_ini = x_fin # ahora x_ini toma el valor de x_fin\n",
    "            x_fin = x_fin + fmin # sumamos fmin a x_fin, ahora tenemos un nuevo intevalo que empieza en el final del intevalo anterior    \n",
    "            print n, raiz # imprime las raíces encotradas enumeradas con n"
   ]
  },
  {
   "cell_type": "markdown",
   "metadata": {},
   "source": [
    "Dedinimos la funcion $$ y(x) = cos(x) + \\frac {6}{5}sin(x^2) $$"
   ]
  },
  {
   "cell_type": "code",
   "execution_count": 5,
   "metadata": {
    "collapsed": true
   },
   "outputs": [],
   "source": [
    "def funcion(x):\n",
    "    return cos(x)+(6/5)*sin(x**2)"
   ]
  },
  {
   "cell_type": "code",
   "execution_count": 6,
   "metadata": {
    "collapsed": false
   },
   "outputs": [
    {
     "name": "stdout",
     "output_type": "stream",
     "text": [
      "1 1.72764201965\n",
      "2 2.72764201965\n",
      "3 2.85344215393\n",
      "4 3.68673614807\n",
      "5 3.85344215393\n",
      "6 4.37974844513\n",
      "7 4.68673614807\n",
      "8 4.9859028595\n",
      "9 5.37974844513\n",
      "10 5.53144389992\n",
      "11 5.9859028595\n",
      "12 6.03157720337\n"
     ]
    }
   ],
   "source": [
    "raiz_osc(funcion,0,2*pi) # bucamos las raices del intevalo (0,2pi)"
   ]
  },
  {
   "cell_type": "code",
   "execution_count": 7,
   "metadata": {
    "collapsed": false
   },
   "outputs": [
    {
     "data": {
      "image/png": "[encoded data removed]",
      "text/plain": [
       "<matplotlib.figure.Figure at 0x7fd849e68550>"
      ]
     },
     "metadata": {},
     "output_type": "display_data"
    }
   ],
   "source": [
    "x=linspace(0,2*pi) # graficamos la funcion y marcamos con un punto las coordenadas de cada raiz encontrada\n",
    "plot(x,funcion(x))\n",
    "plot([1.72764202279],[0],'o')\n",
    "plot([2.72764202331],[0],'o')\n",
    "plot([2.85344215089],[0],'o')\n",
    "plot([3.68673613866],[0],'o')\n",
    "plot([3.85344215455],[0],'o')\n",
    "plot([4.37974844549],[0],'o')\n",
    "plot([4.68673614923],[0],'o')\n",
    "plot([4.9859028609],[0],'o')\n",
    "plot([5.37974844674],[0],'o')\n",
    "plot([5.53144389932],[0],'o')\n",
    "plot([5.98590286261],[0],'o')\n",
    "plot([6.03157720845],[0],'o')\n",
    "grid(True)\n",
    "show()"
   ]
  },
  {
   "cell_type": "code",
   "execution_count": 8,
   "metadata": {
    "collapsed": false
   },
   "outputs": [
    {
     "data": {
      "image/png": "[encoded data removed]",
      "text/plain": [
       "<matplotlib.figure.Figure at 0x7fd849edac50>"
      ]
     },
     "metadata": {},
     "output_type": "display_data"
    }
   ],
   "source": [
    "plot(x,funcion(x)) # un poco de zoom para verificar :v\n",
    "plot([1.72764202279],[0],'o')\n",
    "plot([2.72764202331],[0],'o')\n",
    "plot([2.85344215089],[0],'o')\n",
    "plot([3.68673613866],[0],'o')\n",
    "plot([3.85344215455],[0],'o')\n",
    "plot([4.37974844549],[0],'o')\n",
    "plot([4.68673614923],[0],'o')\n",
    "plot([4.9859028609],[0],'o')\n",
    "plot([5.37974844674],[0],'o')\n",
    "plot([5.53144389932],[0],'o')\n",
    "plot([5.98590286261],[0],'o')\n",
    "plot([6.03157720845],[0],'o')\n",
    "xlim([1.5,6.3]),ylim([-.02,.02])\n",
    "grid(True)\n",
    "show()"
   ]
  },
  {
   "cell_type": "code",
   "execution_count": null,
   "metadata": {
    "collapsed": true
   },
   "outputs": [],
   "source": []
  },
  {
   "cell_type": "code",
   "execution_count": null,
   "metadata": {
    "collapsed": true
   },
   "outputs": [],
   "source": []
  }
 ],
 "metadata": {
  "kernelspec": {
   "display_name": "Python [Root]",
   "language": "python",
   "name": "Python [Root]"
  },
  "language_info": {
   "codemirror_mode": {
    "name": "ipython",
    "version": 2
   },
   "file_extension": ".py",
   "mimetype": "text/x-python",
   "name": "python",
   "nbconvert_exporter": "python",
   "pygments_lexer": "ipython2",
   "version": "2.7.12"
  }
 },
 "nbformat": 4,
 "nbformat_minor": 0
}
