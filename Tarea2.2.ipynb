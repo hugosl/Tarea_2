{
 "cells": [
  {
   "cell_type": "code",
   "execution_count": 2,
   "metadata": {
    "collapsed": true
   },
   "outputs": [],
   "source": [
    "from pylab import *\n",
    "%matplotlib inline\n"
   ]
  },
  {
   "cell_type": "code",
   "execution_count": 3,
   "metadata": {
    "collapsed": true
   },
   "outputs": [],
   "source": [
    "def raiz_bip(func,x_i,x_d,y_fija): # la unica modificacion a este buscador de raices es que se le agrego una variable\n",
    "    err=1e-8                       # y_fija, buscaremos un raiz manteniendo contante un valor de y\n",
    "    raiz = 0.5*(x_i+x_d)\n",
    "    y_i,y_d = func(x_i,y_fija),func(x_d,y_fija)\n",
    "    while abs(y_d)>=err:\n",
    "        y_m = func(raiz,y_fija)\n",
    "        if y_m == 0.:\n",
    "            print \"chin, le atine :D\"\n",
    "            break\n",
    "        if y_m*y_i < 0:\n",
    "            x_d = raiz\n",
    "        else:\n",
    "            x_i = raiz\n",
    "        raiz = 0.5*(x_i+x_d)\n",
    "        y_i,y_d = func(x_i,y_fija),func(x_d,y_fija)\n",
    "    return raiz"
   ]
  },
  {
   "cell_type": "markdown",
   "metadata": {},
   "source": [
    "Se tiene la siguiente funcíon:$$ f(x,y) = (2exp(-(x+1)^2))(exp(-(y+2)^2) + exp(-(y-2)^2)) + 6x(x^2 + y^2)exp(-(x^2+y^2)) -1 $$"
   ]
  },
  {
   "cell_type": "code",
   "execution_count": 4,
   "metadata": {
    "collapsed": false
   },
   "outputs": [],
   "source": [
    "def funcion(x,y): # se define la funcíon\n",
    "    return (2*exp(-(x+1)**2))*(exp(-(y+2)**2) + exp(-(y-2)**2)) + 6*x*(x**2 + y**2)*exp(-(x**2+y**2)) -1"
   ]
  },
  {
   "cell_type": "code",
   "execution_count": 5,
   "metadata": {
    "collapsed": false
   },
   "outputs": [],
   "source": [
    "def raiz_osc(funcion,x_in,x_fi,y_in,y_fi): # es basicamente el buscador de raices del programa enterior, unas modifcacioes   \n",
    "    fmin = 1e-3                            # se agregaron y_in y_fi  que es el intevalo en y en el cual se buscan las raices \n",
    "    y_fija = y_in + fmin # se define el punto fijo en y como el primer punto del intevalo y mas f min\n",
    "    while y_fija < y_fi: # mientras esta y fija sea menor al punto final del intevalo original en y se mantiene el ciclo\n",
    "        x_ini,x_fin = x_in,x_in + fmin # de aqui en adelante el algoritmo es el mismo que en el programa del inciso anterior\n",
    "        n=0\n",
    "        i=0\n",
    "        while (x_fin < x_fi):\n",
    "            y_i,y_d = funcion(x_ini,y_fija),funcion(x_fin,y_fija) # la funcion toma el valor de y fija\n",
    "            p = y_i*y_d\n",
    "            while (p>0):\n",
    "                x_fin = x_fin + fmin\n",
    "                if ( x_fin > x_fi):\n",
    "                    i =1\n",
    "                    break\n",
    "                y_i,y_d = funcion(x_ini,y_fija),funcion(x_fin,y_fija)\n",
    "                p = y_i*y_d\n",
    "            if i == 1 and n > 0:\n",
    "                break\n",
    "            if i == 1:    \n",
    "                break\n",
    "            else :    \n",
    "                raiz = raiz_bip(funcion,x_ini,x_fin,y_fija)\n",
    "                n += 1\n",
    "                x_ini = x_fin\n",
    "                x_fin = x_fin + fmin\n",
    "            xlim(-4,4),ylim(-4,4)    # definimos el intevalo de la grafica\n",
    "            plot(raiz,y_fija,'.',color = 'blue') # en este punto graficamos las raices encontradas para y fija\n",
    "        y_fija = y_fija + fmin # a y fija se le suma fmin y se inicia un nuevo ciclo para esta nueva y fija\n",
    "   \n",
    "    "
   ]
  },
  {
   "cell_type": "code",
   "execution_count": 6,
   "metadata": {
    "collapsed": false
   },
   "outputs": [
    {
     "data": {
      "image/png": "[encoded data removed]",
      "text/plain": [
       "<matplotlib.figure.Figure at 0x7f53426d6c50>"
      ]
     },
     "metadata": {},
     "output_type": "display_data"
    }
   ],
   "source": [
    "raiz_osc(funcion,-4,4,-4,4) # se corre el programa, como fmin es muy pequeña se obtiene un barrido fino \n",
    "                            # para la curva de nivel, aunque tarda mucho tiempo\n"
   ]
  },
  {
   "cell_type": "code",
   "execution_count": null,
   "metadata": {
    "collapsed": true
   },
   "outputs": [],
   "source": []
  }
 ],
 "metadata": {
  "kernelspec": {
   "display_name": "Python [Root]",
   "language": "python",
   "name": "Python [Root]"
  },
  "language_info": {
   "codemirror_mode": {
    "name": "ipython",
    "version": 2
   },
   "file_extension": ".py",
   "mimetype": "text/x-python",
   "name": "python",
   "nbconvert_exporter": "python",
   "pygments_lexer": "ipython2",
   "version": "2.7.12"
  }
 },
 "nbformat": 4,
 "nbformat_minor": 0
}
